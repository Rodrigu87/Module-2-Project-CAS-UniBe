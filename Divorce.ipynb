{
  "nbformat": 4,
  "nbformat_minor": 0,
  "metadata": {
    "colab": {
      "provenance": [],
      "toc_visible": true,
      "authorship_tag": "ABX9TyMCAf7Pse7JmTWZii4XfAfC",
      "include_colab_link": true
    },
    "kernelspec": {
      "name": "python3",
      "display_name": "Python 3"
    },
    "language_info": {
      "name": "python"
    }
  },
  "cells": [
    {
      "cell_type": "markdown",
      "metadata": {
        "id": "view-in-github",
        "colab_type": "text"
      },
      "source": [
        "<a href=\"https://colab.research.google.com/github/Rodrigu87/Module-2-Project-CAS-UniBe/blob/main/Divorce.ipynb\" target=\"_parent\"><img src=\"https://colab.research.google.com/assets/colab-badge.svg\" alt=\"Open In Colab\"/></a>"
      ]
    },
    {
      "cell_type": "markdown",
      "source": [
        "### **MODULE 2 PROJECT**\n",
        "\n",
        "# The divorce code\n",
        "*By Kabir, Rodrigue and Sertac*\n",
        "\n"
      ],
      "metadata": {
        "id": "sQ0IEwZR5rdF"
      }
    },
    {
      "cell_type": "markdown",
      "source": [
        "**Research question**\n",
        "\n",
        "This project aims to advance our understanding of the factors that contribute to divorce.\n",
        "\n",
        "Specifically, it seeks to:\n",
        "\n",
        "\n",
        "*   Predict the likelihood of divorce\n",
        "*  Identify the decisive factors leading to divorce\n",
        "\n",
        "\n",
        "\n",
        "\n"
      ],
      "metadata": {
        "id": "bkhh99zC7_xl"
      }
    },
    {
      "cell_type": "markdown",
      "source": [
        "# **Research hypotheses**\n",
        "\n",
        "\n",
        "\n",
        "*  H1: Couples who marry at a younger age are significantly more likely to\n",
        "divorce than those who marry later, even after controlling for income and education.\n",
        "\n",
        "*   H2: Higher communication quality and trust levels strongly reduce the likelihood of divorce, while frequent conflicts increase it.\n",
        "\n",
        "*   H3: Pre-marital cohabitation increases the risk of divorce in love marriages, but decreases the risk in arranged marriages.\n",
        "*   H4: Religious compatibility between spouses reduces the probability of divorce compared to interfaith or non-aligned couples.\n",
        "\n",
        "*   H5: Infidelity and domestic violence history are the strongest predictors of divorce, while high social support and counseling attendance mitigate these risks.\n",
        "*   H6: Low trust and high conflict frequency are associated with shorter marriage duration among couples who eventually divorce."
      ],
      "metadata": {
        "id": "74KG-E4pBIcM"
      }
    },
    {
      "cell_type": "code",
      "source": [
        "# About the dataset\n",
        "# synthetic dataset from kaggle.com (https://www.kaggle.com/datasets/vanpatangan/divorce-prediction/data)\n"
      ],
      "metadata": {
        "id": "xsWWf4wu59tp"
      },
      "execution_count": null,
      "outputs": []
    },
    {
      "cell_type": "code",
      "source": [
        "import pandas as pd\n"
      ],
      "metadata": {
        "id": "TAaNJ_uD7Sxg"
      },
      "execution_count": 8,
      "outputs": []
    }
  ]
}